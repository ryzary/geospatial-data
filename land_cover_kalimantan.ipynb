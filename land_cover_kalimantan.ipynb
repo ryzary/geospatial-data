{
  "nbformat": 4,
  "nbformat_minor": 0,
  "metadata": {
    "kernelspec": {
      "display_name": "Python 3",
      "language": "python",
      "name": "python3"
    },
    "language_info": {
      "codemirror_mode": {
        "name": "ipython",
        "version": 3
      },
      "file_extension": ".py",
      "mimetype": "text/x-python",
      "name": "python",
      "nbconvert_exporter": "python",
      "pygments_lexer": "ipython3",
      "version": "3.7.6"
    },
    "colab": {
      "name": "land-cover-kalimantan.ipynb",
      "provenance": [],
      "include_colab_link": true
    }
  },
  "cells": [
    {
      "cell_type": "markdown",
      "metadata": {
        "id": "view-in-github",
        "colab_type": "text"
      },
      "source": [
        "<a href=\"https://colab.research.google.com/github/ryzary/geospatial-data/blob/main/land_cover_kalimantan.ipynb\" target=\"_parent\"><img src=\"https://colab.research.google.com/assets/colab-badge.svg\" alt=\"Open In Colab\"/></a>"
      ]
    },
    {
      "cell_type": "markdown",
      "metadata": {
        "id": "JOJj-xWE9TqI"
      },
      "source": [
        "Ryza Rynazal (17B00107)"
      ]
    },
    {
      "cell_type": "markdown",
      "metadata": {
        "id": "t7awtw1m9TqJ"
      },
      "source": [
        "# Investigating Land-cover Changes in West Kalimantan, Indonesia using NDVI"
      ]
    },
    {
      "cell_type": "markdown",
      "metadata": {
        "id": "czCZH5Rd9TqK"
      },
      "source": [
        "Kalimantan has been experiencing deforestation in the past decades. It is mainly caused by palm oil plantations, illegal logging and forest fires. This notebook is aimed to examine land-cover changes in West Kalimantan using data from Landsat satellites. Here, I used Google Earth Engine with Python API."
      ]
    },
    {
      "cell_type": "markdown",
      "metadata": {
        "id": "fkEw8j0Q9TqN"
      },
      "source": [
        "Some of the codes were obtained from the course material provided by Prof. Alvin Varquez in the Geospatial Data Analysis Class, Tokyo Institute of Technology. \n",
        "<br>\n",
        "I also found very useful tutorials from https://towardsdatascience.com/@hagi.willy"
      ]
    },
    {
      "cell_type": "code",
      "metadata": {
        "id": "qMhjIeAx9TqO"
      },
      "source": [
        "import ee\n",
        "import folium\n",
        "\n",
        "from datetime import datetime as dt\n",
        "from IPython.display import Image"
      ],
      "execution_count": 1,
      "outputs": []
    },
    {
      "cell_type": "code",
      "metadata": {
        "id": "hc7GO8rj9TqT",
        "outputId": "0b8bb637-858a-4278-e951-2f4cf314aea2",
        "colab": {
          "base_uri": "https://localhost:8080/"
        }
      },
      "source": [
        "ee.Authenticate()"
      ],
      "execution_count": 2,
      "outputs": [
        {
          "output_type": "stream",
          "text": [
            "To authorize access needed by Earth Engine, open the following URL in a web browser and follow the instructions. If the web browser does not start automatically, please manually browse the URL below.\n",
            "\n",
            "    https://accounts.google.com/o/oauth2/auth?client_id=517222506229-vsmmajv00ul0bs7p89v5m89qs8eb9359.apps.googleusercontent.com&scope=https%3A%2F%2Fwww.googleapis.com%2Fauth%2Fearthengine+https%3A%2F%2Fwww.googleapis.com%2Fauth%2Fdevstorage.full_control&redirect_uri=urn%3Aietf%3Awg%3Aoauth%3A2.0%3Aoob&response_type=code&code_challenge=6hnBApfePDEo3ompSAI82XxaQY0PcFq9ST4JVFMxNG0&code_challenge_method=S256\n",
            "\n",
            "The authorization workflow will generate a code, which you should paste in the box below. \n",
            "Enter verification code: 4/5wFJ7PcihdR4VapcnPvYmwyyjIRwAn782C9ZXzD6rLPvQQfRJwjNLoo\n",
            "\n",
            "Successfully saved authorization token.\n"
          ],
          "name": "stdout"
        }
      ]
    },
    {
      "cell_type": "code",
      "metadata": {
        "id": "mfn2vumA9TqY"
      },
      "source": [
        "ee.Initialize()"
      ],
      "execution_count": 3,
      "outputs": []
    },
    {
      "cell_type": "markdown",
      "metadata": {
        "id": "L9vMLAxq9Tqh"
      },
      "source": [
        "## Select the region"
      ]
    },
    {
      "cell_type": "code",
      "metadata": {
        "id": "910IBlmd9Tqh",
        "outputId": "1de64ab1-82e6-426a-f48a-443402aa9df1",
        "colab": {
          "base_uri": "https://localhost:8080/",
          "height": 808
        }
      },
      "source": [
        "#West Kalimantan, Indonesia\n",
        "my_map = folium.Map(location=[1.5439,109.208],zoom_start=11,width='80%')\n",
        "my_map"
      ],
      "execution_count": 4,
      "outputs": [
        {
          "output_type": "execute_result",
          "data": {
            "text/html": [
              "<div style=\"width:100%;\"><div style=\"position:relative;width:100%;height:0;padding-bottom:60%;\"><span style=\"color:#565656\">Make this Notebook Trusted to load map: File -> Trust Notebook</span><iframe src=\"about:blank\" style=\"position:absolute;width:100%;height:100%;left:0;top:0;border:none !important;\" data-html=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 onload=\"this.contentDocument.open();this.contentDocument.write(atob(this.getAttribute('data-html')));this.contentDocument.close();\" allowfullscreen webkitallowfullscreen mozallowfullscreen></iframe></div></div>"
            ],
            "text/plain": [
              "<folium.folium.Map at 0x7fe7d6446550>"
            ]
          },
          "metadata": {
            "tags": []
          },
          "execution_count": 4
        }
      ]
    },
    {
      "cell_type": "markdown",
      "metadata": {
        "id": "hf8_eL8A9Tqn"
      },
      "source": [
        "# Landsat 8 Data"
      ]
    },
    {
      "cell_type": "markdown",
      "metadata": {
        "id": "T1Fp0p_J9Tqn"
      },
      "source": [
        "### USGS Landsat 8 Surface Reflectance Tier 1"
      ]
    },
    {
      "cell_type": "code",
      "metadata": {
        "id": "179LRpGs9Tqo",
        "outputId": "f2f8cb98-7154-4a23-9a4c-27baa8ae226d",
        "colab": {
          "base_uri": "https://localhost:8080/"
        }
      },
      "source": [
        "#Landsat 8 \n",
        "landsat8 = ee.ImageCollection(\"LANDSAT/LC08/C01/T1_SR\").filterDate('2013-01-01','2014-12-31')\n",
        "\n",
        "#area of interest:\n",
        "AOI = ee.Geometry.Rectangle([109.308,1.56,109.150,1.540])\n",
        "\n",
        "landsat8_AOI = landsat8.filterBounds(AOI)\n",
        "\n",
        "#lowest cloud coverage\n",
        "L8_lowest_cloud = ee.Image(landsat8_AOI.sort('CLOUD_COVER').first())\n",
        "\n",
        "#how cloudy is it?\n",
        "print('Cloud Cover (%)', L8_lowest_cloud.get('CLOUD_COVER').getInfo())\n",
        "\n",
        "#when was this image with the least cloud cover taken?\n",
        "date = ee.Date(L8_lowest_cloud.get('system:time_start'))\n",
        "time = date.getInfo()['value']/1000.\n",
        "print('Time: ',dt.utcfromtimestamp(time).strftime('%Y-%m-%d %H:%M:%S'))"
      ],
      "execution_count": 5,
      "outputs": [
        {
          "output_type": "stream",
          "text": [
            "Cloud Cover (%) 5.37\n",
            "Time:  2013-06-22 03:00:00\n"
          ],
          "name": "stdout"
        }
      ]
    },
    {
      "cell_type": "markdown",
      "metadata": {
        "id": "IdYHThrW9Tqs"
      },
      "source": [
        "# Landsat 5 Data"
      ]
    },
    {
      "cell_type": "markdown",
      "metadata": {
        "id": "Xunc8jnb9Tqs"
      },
      "source": [
        "### USGS Landsat 5 Surface Reflectance Tier 1"
      ]
    },
    {
      "cell_type": "code",
      "metadata": {
        "id": "FDgXDony9Tqu",
        "outputId": "f9822590-6640-46c6-cf7e-f03f0f3dee2f",
        "colab": {
          "base_uri": "https://localhost:8080/"
        }
      },
      "source": [
        "landsat5 = ee.ImageCollection(\"LANDSAT/LT05/C01/T1_SR\").filterDate('1985-01-01','2012-12-31')\n",
        "AOI = ee.Geometry.Rectangle([109.308,1.56,109.150,1.540])\n",
        "#filter area:\n",
        "landsat5_AOI = landsat5.filterBounds(AOI)\n",
        "\n",
        "#the least cloudy image\n",
        "L5_lowest_cloud = ee.Image(landsat5_AOI.sort('CLOUD_COVER').first())\n",
        "\n",
        "#how cloudy is it?\n",
        "print('Cloud Cover (%)', L5_lowest_cloud.get('CLOUD_COVER').getInfo())\n",
        "\n",
        "#when was this image with the least cloud cover taken?\n",
        "date = ee.Date(L5_lowest_cloud.get('system:time_start'))\n",
        "time = date.getInfo()['value']/1000.\n",
        "print('Time: ',dt.utcfromtimestamp(time).strftime('%Y-%m-%d %H:%M:%S'))\n"
      ],
      "execution_count": 6,
      "outputs": [
        {
          "output_type": "stream",
          "text": [
            "Cloud Cover (%) 1\n",
            "Time:  1992-08-31 02:20:24\n"
          ],
          "name": "stdout"
        }
      ]
    },
    {
      "cell_type": "markdown",
      "metadata": {
        "id": "if1WCNuJ9Tq1"
      },
      "source": [
        "# NDVI"
      ]
    },
    {
      "cell_type": "markdown",
      "metadata": {
        "id": "bH-E6s3I9Tq2"
      },
      "source": [
        "- Normalized Difference Vegetation Index, commonly used to examine land cover \n",
        "- NDVI = (NIR-VIS)/(NIR+VIS)\n",
        "- It ranges from -1 to 1 or 0 to 1. (-1 - 0: water&cloud (red); 1: dense vegetation (green))"
      ]
    },
    {
      "cell_type": "code",
      "metadata": {
        "id": "c0auyfNa9Tq3"
      },
      "source": [
        "#Landsat8 : B5 and B4\n",
        "ndvi_L8 = L8_lowest_cloud.normalizedDifference(['B5','B4'])\n",
        "\n",
        "#Landsat 5: (B4 and B3)\n",
        "ndvi_L5 = L5_lowest_cloud.normalizedDifference(['B4','B3'])\n",
        "\n",
        "ndvi_parameters = {'min':0,'max':1,\n",
        "                  'dimensions': 512, 'palette': ['red','yellow','green']}"
      ],
      "execution_count": 7,
      "outputs": []
    },
    {
      "cell_type": "markdown",
      "metadata": {
        "id": "WOFDhgtU9Tq8"
      },
      "source": [
        "# Interactive map"
      ]
    },
    {
      "cell_type": "markdown",
      "metadata": {
        "id": "hof-iDWC9Tq9"
      },
      "source": [
        "To switch the map between Landsat8 and Landsat5, use the Layer Control at the top right corner of the map."
      ]
    },
    {
      "cell_type": "code",
      "metadata": {
        "id": "4Kic5A3U9Tq-",
        "outputId": "3994c2c1-278b-4b3c-bc3a-3a007ed2e2f3",
        "colab": {
          "base_uri": "https://localhost:8080/",
          "height": 808
        }
      },
      "source": [
        "import folium\n",
        "\n",
        "def add_ee_layer(self, ee_image_object, vis_params, name):\n",
        "    map_id_dict = ee.Image(ee_image_object).getMapId(vis_params)\n",
        "    folium.raster_layers.TileLayer(\n",
        "    tiles = map_id_dict['tile_fetcher'].url_format,\n",
        "    attr = \"Map Data © Google Earth Engine\",\n",
        "    name = name,\n",
        "    overlay = True,\n",
        "    control = True\n",
        "    ).add_to(self)\n",
        "\n",
        "folium.Map.add_ee_layer = add_ee_layer\n",
        "\n",
        "final_map = folium.Map(location=[1.5439,109.208],zoom_start=11,width='80%')\n",
        "final_map.add_ee_layer(ndvi_L5,ndvi_parameters,'Landsat5/1992')\n",
        "final_map.add_ee_layer(ndvi_L8,ndvi_parameters,'Landsat8/2013')\n",
        "final_map.add_child(folium.LayerControl())"
      ],
      "execution_count": 8,
      "outputs": [
        {
          "output_type": "execute_result",
          "data": {
            "text/html": [
              "<div style=\"width:100%;\"><div style=\"position:relative;width:100%;height:0;padding-bottom:60%;\"><span style=\"color:#565656\">Make this Notebook Trusted to load map: File -> Trust Notebook</span><iframe src=\"about:blank\" style=\"position:absolute;width:100%;height:100%;left:0;top:0;border:none !important;\" data-html=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 onload=\"this.contentDocument.open();this.contentDocument.write(atob(this.getAttribute('data-html')));this.contentDocument.close();\" allowfullscreen webkitallowfullscreen mozallowfullscreen></iframe></div></div>"
            ],
            "text/plain": [
              "<folium.folium.Map at 0x7fe7d63519e8>"
            ]
          },
          "metadata": {
            "tags": []
          },
          "execution_count": 8
        }
      ]
    },
    {
      "cell_type": "code",
      "metadata": {
        "id": "KDGStTJo9TrB"
      },
      "source": [
        ""
      ],
      "execution_count": null,
      "outputs": []
    }
  ]
}